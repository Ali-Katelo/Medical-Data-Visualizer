{
  "metadata": {
    "kernelspec": {
      "name": "python",
      "display_name": "Python (Pyodide)",
      "language": "python"
    },
    "language_info": {
      "codemirror_mode": {
        "name": "python",
        "version": 3
      },
      "file_extension": ".py",
      "mimetype": "text/x-python",
      "name": "python",
      "nbconvert_exporter": "python",
      "pygments_lexer": "ipython3",
      "version": "3.8"
    }
  },
  "nbformat_minor": 4,
  "nbformat": 4,
  "cells": [
    {
      "cell_type": "code",
      "source": "%pip install seaborn",
      "metadata": {
        "trusted": true
      },
      "outputs": [],
      "execution_count": 4
    },
    {
      "cell_type": "code",
      "source": "import pandas as pd\nimport matplotlib.pyplot as plt\nimport seaborn as sns\n\n\ndef draw_cat_plot():\n    # Import data\n    df = pd.read_csv('medical_examination.csv')\n\n    # Add 'overweight' column\n    df['overweight'] = (df['weight'] / ((df['height'] / 100) ** 2)).apply(lambda x: 1 if x > 25 else 0)\n\n    # Normalize data by making 0 always good and 1 always bad. If the value of cholesterol or gluc is 1, set the value to 0. If the value is more than 1, set the value to 1.\n    df['cholesterol'] = df['cholesterol'].apply(lambda x: 0 if x == 1 else 1)\n    df['gluc'] = df['gluc'].apply(lambda x: 0 if x == 1 else 1)\n\n    # Draw Categorical Plot\n    df_cat = pd.melt(df, id_vars=['cardio'], value_vars=['cholesterol', 'gluc', 'smoke', 'alco', 'active', 'overweight'])\n    df_cat = df_cat.groupby(['cardio', 'variable', 'value']).size().reset_index(name='total')\n    df_cat = df_cat.rename(columns={'value': 'feature'})\n\n    fig, ax = plt.subplots(figsize=(10, 6))\n    sns.catplot(x='feature', y='total', hue='cardio', data=df_cat, kind='bar', ax=ax)\n    fig.savefig('catplot.png')\n    return fig\n",
      "metadata": {
        "trusted": true
      },
      "outputs": [],
      "execution_count": 5
    },
    {
      "cell_type": "code",
      "source": "import pandas as pd\nimport seaborn as sns\nimport matplotlib.pyplot as plt\nimport numpy as np\n\ndef draw_cat_plot():\n  # Import data\n  df = pd.read_csv('medical_examination.csv')\n\n  # Add an \"overweight\" column to the data\n  df['overweight'] = (df['weight'] / ((df['height'] / 100) ** 2) > 25).astype(int)\n\n  # Normalize the data by making 0 always good and 1 always bad. If the value of 'cholesterol' or 'gluc' is 1, make the value 0. If the value is more than 1, make the value 1.\n  df['cholesterol'] = (df['cholesterol'] > 1).astype(int)\n  df['gluc'] = (df['gluc'] > 1).astype(int)\n\n  # Draw the catplot\n  # Create a figure and axes\n  fig, axes = plt.subplots(3, 2, figsize=(10, 10))\n  # Flatten the axes array for easier iteration\n  axes = axes.flatten()\n\n  # Define the categorical features to plot\n  categorical_features = ['cholesterol', 'gluc', 'smoke', 'alco', 'active', 'overweight']\n\n  # Iterate over the categorical features and plot them\n  for i, feature in enumerate(categorical_features):\n    sns.catplot(x=feature, hue='cardio', kind='count', data=df, ax=axes[i])\n    axes[i].set_title(f'Distribution of {feature} by Cardio')\n\n  # Remove the last two unused subplots\n  fig.delaxes(axes[10])\n  fig.delaxes(axes[11])\n\n  # Adjust layout and save the plot\n  plt.tight_layout()\n  fig.savefig('catplot.png')\n\ndef draw_heat_map():\n  # Import data\n  df = pd.read_csv('medical_examination.csv')\n\n  # Clean the data\n  df = df[df['ap_lo'] <= df['ap_hi']]\n  df = df[df['height'] >= df['height'].quantile(0.025)]\n  df = df[df['height'] <= df['height'].quantile(0.975)]\n  df = df[df['weight'] >= df['weight'].quantile(0.025)]\n  df = df[df['weight'] <= df['weight'].quantile(0.975)]\n\n  # Calculate the correlation matrix\n  corr = df.corr()\n\n  # Generate a mask for the upper triangle\n  mask = np.triu(np.ones_like(corr, dtype=bool))\n\n  # Draw the heatmap with the mask\n  sns.heatmap(corr, mask=mask, annot=True, fmt=\".1f\", square=True, linewidths=.5, cbar_kws={\"shrink\": .5})\n\n  # Save the plot\n  plt.savefig('heatmap.png')\n",
      "metadata": {
        "trusted": true
      },
      "outputs": [],
      "execution_count": null
    }
  ]
}